{
 "cells": [
  {
   "cell_type": "code",
   "execution_count": 3,
   "metadata": {},
   "outputs": [],
   "source": [
    "import nibabel as nib\n",
    "import numpy as np"
   ]
  },
  {
   "cell_type": "code",
   "execution_count": 4,
   "metadata": {},
   "outputs": [],
   "source": [
    "seed_aseg = nib.load(snakemake.input.seed_aseg)\n",
    "label_num = snakemake.params.seed_label\n",
    "\n",
    "#extract seed aseg data\n",
    "seed_vol = seed_aseg.get_fdata()\n",
    "\n",
    "#set to 1 where label_num, 0 otherwise\n",
    "seed_vol = np.where(seed_vol == label_num, 1, 0)\n",
    "\n",
    "#put in a new nibabel img\n",
    "seed_single = nib.Nifti1Image(seed_vol,seed_aseg.affine,seed_aseg.header)"
   ]
  },
  {
   "cell_type": "markdown",
   "metadata": {},
   "outputs": [],
   "source": [
    "Use nilearn's built-in visualization to check the seed image, using the T1w as background"
   ]
  },
  {
   "cell_type": "code",
   "execution_count": 6,
   "metadata": {},
   "outputs": [],
   "source": [
    "from nilearn.plotting import view_img\n",
    "\n",
    "view = view_img(seed_single, snakemake.input.t1w,threshold=1)\n",
    "view\n"
   ]
  },
  {
   "cell_type": "markdown",
   "metadata": {},
   "outputs": [],
   "source": [
    "Now we can use that image to make a masker in Nilearn.\n",
    "Maskers are used extract data from fmri timeseries. The NiftiLabelsMasker uses the segmentation to get a timeseries for that binary mask."
   ]
  },
  {
   "cell_type": "code",
   "execution_count": 40,
   "metadata": {},
   "outputs": [],
   "source": [
    "from nilearn.input_data import NiftiLabelsMasker\n",
    "\n",
    "#create the masker that will sample the timeseries\n",
    "seed_masker = NiftiLabelsMasker(labels_img=seed_single, mask_img=snakemake.input.brain_mask, standardize='zscore', resampling_target='data')\n",
    "\n",
    "#sample the timeseries by providing the denoised input (note, could have alternatively provided confounds here)\n",
    "seed_timeseries = seed_masker.fit_transform(snakemake.input.denoised)\n",
    "\n"
   ]
  },
  {
   "cell_type": "markdown",
   "metadata": {},
   "outputs": [],
   "source": [
    "We can use the NiftiMasker to get timeseries for each voxel in the mask (brain mask in this case):"
   ]
  },
  {
   "cell_type": "code",
   "execution_count": 41,
   "metadata": {},
   "outputs": [],
   "source": [
    "from nilearn.input_data import NiftiMasker\n",
    "\n",
    "#similarly, get timeseries for all voxels in the brain:\n",
    "brain_masker = NiftiMasker( mask_img=snakemake.input.brain_mask, standardize='zscore', smoothing_fwhm=snakemake.params.fwhm)\n",
    "brain_timeseries = brain_masker.fit_transform(snakemake.input.denoised)\n",
    "\n"
   ]
  },
  {
   "cell_type": "code",
   "execution_count": 42,
   "metadata": {},
   "outputs": [],
   "source": [
    "print(brain_timeseries.shape)\n",
    "print(seed_timeseries.shape)"
   ]
  },
  {
   "cell_type": "code",
   "execution_count": 43,
   "metadata": {},
   "outputs": [],
   "source": [
    "import matplotlib.pyplot as plt\n",
    "\n",
    "plt.plot(seed_timeseries)\n"
   ]
  },
  {
   "cell_type": "code",
   "execution_count": 45,
   "metadata": {},
   "outputs": [],
   "source": [
    "#seed to voxel correlation:\n",
    "corr = np.dot(seed_timeseries.T,brain_timeseries) / seed_timeseries.shape[0]\n",
    "corr.shape\n",
    "\n",
    "#bring back to image space\n",
    "corr_img = brain_masker.inverse_transform(corr)\n",
    "corr_img.shape\n",
    "view = view_img(corr_img,snakemake.input.t1w, threshold=snakemake.params.r_threshold)\n",
    "view"
   ]
  },
  {
   "cell_type": "code",
   "execution_count": 46,
   "metadata": {},
   "outputs": [],
   "source": [
    "from nilearn.image import threshold_img\n",
    "\n",
    "#threshold\n",
    "corr_img_th = threshold_img(corr_img,snakemake.params.r_threshold)\n",
    "\n",
    "#save the connectivity to nifti file\n",
    "corr_img_th.to_filename(snakemake.output.seed_fconn)"
   ]
  },
  {
   "cell_type": "code",
   "execution_count": null,
   "metadata": {},
   "outputs": [],
   "source": []
  }
 ],
 "metadata": {
  "kernelspec": {
   "display_name": "Python 3",
   "language": "python",
   "name": "python3"
  },
  "language_info": {
   "codemirror_mode": {
    "name": "ipython",
    "version": 3
   },
   "file_extension": ".py",
   "mimetype": "text/x-python",
   "name": "python",
   "nbconvert_exporter": "python",
   "pygments_lexer": "ipython3",
   "version": "3.8.2"
  }
 },
 "nbformat": 4,
 "nbformat_minor": 4
}
